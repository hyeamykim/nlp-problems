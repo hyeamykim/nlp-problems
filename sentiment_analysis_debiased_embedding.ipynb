{
  "nbformat": 4,
  "nbformat_minor": 0,
  "metadata": {
    "colab": {
      "name": "sentiment_analysis_debiased_embedding",
      "provenance": [],
      "authorship_tag": "ABX9TyOuEi0X2Etvn5Sd68UGJlMI",
      "include_colab_link": true
    },
    "kernelspec": {
      "display_name": "Python 3",
      "name": "python3"
    },
    "language_info": {
      "name": "python"
    }
  },
  "cells": [
    {
      "cell_type": "markdown",
      "metadata": {
        "id": "view-in-github",
        "colab_type": "text"
      },
      "source": [
        "<a href=\"https://colab.research.google.com/github/hyeamykim/nlp-problems/blob/master/sentiment_analysis_debiased_embedding.ipynb\" target=\"_parent\"><img src=\"https://colab.research.google.com/assets/colab-badge.svg\" alt=\"Open In Colab\"/></a>"
      ]
    },
    {
      "cell_type": "markdown",
      "metadata": {
        "id": "GTApgAkj0ifj"
      },
      "source": [
        "# Sentiment analysis with biased and debiased word embeddings "
      ]
    },
    {
      "cell_type": "markdown",
      "metadata": {
        "id": "U3mqDNG_x5i3"
      },
      "source": [
        "\n",
        "\n",
        "> Prepared by Hye Yeon Kim\n",
        "\n",
        "> Based on Reponsibly tutorial on exploring gender bias in word embeddings\n",
        "\n",
        "> https://learn.responsibly.ai/word-embedding\n",
        "\n",
        "\n",
        "\n",
        "> Last modified: 16/8/2021\n",
        "\n"
      ]
    },
    {
      "cell_type": "markdown",
      "metadata": {
        "id": "NKBd28W91Ufy"
      },
      "source": [
        "## Pre-processing"
      ]
    },
    {
      "cell_type": "markdown",
      "metadata": {
        "id": "4XXYUYc4yFQK"
      },
      "source": [
        "### Install Responsibly package\n",
        "\n"
      ]
    },
    {
      "cell_type": "code",
      "metadata": {
        "colab": {
          "base_uri": "https://localhost:8080/"
        },
        "id": "tL2u9R3okCIa",
        "outputId": "40a7a991-97fc-4a95-bf9e-c43daa5fa65b"
      },
      "source": [
        "%pip install --user responsibly"
      ],
      "execution_count": null,
      "outputs": [
        {
          "output_type": "stream",
          "text": [
            "Requirement already satisfied: responsibly in /root/.local/lib/python3.7/site-packages (0.1.3)\n",
            "Requirement already satisfied: numpy>=1.15 in /usr/local/lib/python3.7/dist-packages (from responsibly) (1.19.5)\n",
            "Requirement already satisfied: gensim<3.8,>=3.7 in /root/.local/lib/python3.7/site-packages (from responsibly) (3.7.3)\n",
            "Requirement already satisfied: scipy>=1.1 in /usr/local/lib/python3.7/dist-packages (from responsibly) (1.4.1)\n",
            "Requirement already satisfied: six>=1.10 in /usr/local/lib/python3.7/dist-packages (from responsibly) (1.15.0)\n",
            "Requirement already satisfied: scikit-learn>=0.19 in /usr/local/lib/python3.7/dist-packages (from responsibly) (0.22.2.post1)\n",
            "Requirement already satisfied: matplotlib<3,>=2.2 in /root/.local/lib/python3.7/site-packages (from responsibly) (2.2.5)\n",
            "Requirement already satisfied: click>=6.0 in /usr/local/lib/python3.7/dist-packages (from responsibly) (7.1.2)\n",
            "Requirement already satisfied: mlxtend<0.17,>=0.13 in /usr/local/lib/python3.7/dist-packages (from responsibly) (0.14.0)\n",
            "Requirement already satisfied: seaborn>=0.9 in /usr/local/lib/python3.7/dist-packages (from responsibly) (0.11.1)\n",
            "Requirement already satisfied: tabulate>=0.8 in /usr/local/lib/python3.7/dist-packages (from responsibly) (0.8.9)\n",
            "Requirement already satisfied: tqdm>=4.24 in /usr/local/lib/python3.7/dist-packages (from responsibly) (4.62.0)\n",
            "Requirement already satisfied: pandas>=0.23 in /usr/local/lib/python3.7/dist-packages (from responsibly) (1.1.5)\n",
            "Requirement already satisfied: smart-open>=1.7.0 in /usr/local/lib/python3.7/dist-packages (from gensim<3.8,>=3.7->responsibly) (5.1.0)\n",
            "Requirement already satisfied: pyparsing!=2.0.4,!=2.1.2,!=2.1.6,>=2.0.1 in /usr/local/lib/python3.7/dist-packages (from matplotlib<3,>=2.2->responsibly) (2.4.7)\n",
            "Requirement already satisfied: python-dateutil>=2.1 in /usr/local/lib/python3.7/dist-packages (from matplotlib<3,>=2.2->responsibly) (2.8.2)\n",
            "Requirement already satisfied: cycler>=0.10 in /usr/local/lib/python3.7/dist-packages (from matplotlib<3,>=2.2->responsibly) (0.10.0)\n",
            "Requirement already satisfied: kiwisolver>=1.0.1 in /usr/local/lib/python3.7/dist-packages (from matplotlib<3,>=2.2->responsibly) (1.3.1)\n",
            "Requirement already satisfied: pytz in /usr/local/lib/python3.7/dist-packages (from matplotlib<3,>=2.2->responsibly) (2018.9)\n",
            "Requirement already satisfied: setuptools in /usr/local/lib/python3.7/dist-packages (from mlxtend<0.17,>=0.13->responsibly) (57.2.0)\n",
            "Requirement already satisfied: joblib>=0.11 in /usr/local/lib/python3.7/dist-packages (from scikit-learn>=0.19->responsibly) (1.0.1)\n"
          ],
          "name": "stdout"
        }
      ]
    },
    {
      "cell_type": "code",
      "metadata": {
        "colab": {
          "base_uri": "https://localhost:8080/",
          "height": 35
        },
        "id": "7OfGDASClQpj",
        "outputId": "70a117a8-18dc-43e8-fd79-32bc7b8a7dc4"
      },
      "source": [
        "import responsibly\n",
        "\n",
        "# You should get '0.1.3'\n",
        "responsibly.__version__"
      ],
      "execution_count": null,
      "outputs": [
        {
          "output_type": "execute_result",
          "data": {
            "application/vnd.google.colaboratory.intrinsic+json": {
              "type": "string"
            },
            "text/plain": [
              "'0.1.3'"
            ]
          },
          "metadata": {
            "tags": []
          },
          "execution_count": 2
        }
      ]
    },
    {
      "cell_type": "markdown",
      "metadata": {
        "id": "6RWc6v8ayKFX"
      },
      "source": [
        "### Import sentiment analysis data from SemEval2018 task 1"
      ]
    },
    {
      "cell_type": "code",
      "metadata": {
        "id": "SajKk6PYla5F"
      },
      "source": [
        "%%bash\n",
        "\n",
        "wget https://learn.responsibly.ai/word-embedding/data/SemEval2018-Task1-all-data.zip \\\n",
        "     -O SemEval2018-Task1-all-data.zip -q\n",
        "\n",
        "unzip -qq -o SemEval2018-Task1-all-data.zip -d ./data"
      ],
      "execution_count": null,
      "outputs": []
    },
    {
      "cell_type": "code",
      "metadata": {
        "id": "iV-vVhS4lg1D"
      },
      "source": [
        "import pandas as pd\n",
        "\n",
        "\n",
        "train_df = pd.read_csv('./data/SemEval2018-Task1-all-data/English/V-reg/2018-Valence-reg-En-train.txt',\n",
        "                       sep='\\t', index_col=0)\n",
        "dev_df = pd.read_csv('./data/SemEval2018-Task1-all-data/English/V-reg/2018-Valence-reg-En-dev.txt',\n",
        "                       sep='\\t', index_col=0)\n",
        "test_df = pd.read_csv('./data/SemEval2018-Task1-all-data/English/V-reg/2018-Valence-reg-En-test-gold.txt',\n",
        "                       sep='\\t', index_col=0)"
      ],
      "execution_count": null,
      "outputs": []
    },
    {
      "cell_type": "markdown",
      "metadata": {
        "id": "EghABEqMyVWV"
      },
      "source": [
        "### Data Inspection and Pre-processing on labels"
      ]
    },
    {
      "cell_type": "code",
      "metadata": {
        "colab": {
          "base_uri": "https://localhost:8080/",
          "height": 237
        },
        "id": "SignGZamlkj-",
        "outputId": "2666d6cf-9722-4a0a-9f0e-e3344e6f622c"
      },
      "source": [
        "# A few examples\n",
        "\n",
        "train_df.head()"
      ],
      "execution_count": null,
      "outputs": [
        {
          "output_type": "execute_result",
          "data": {
            "text/html": [
              "<div>\n",
              "<style scoped>\n",
              "    .dataframe tbody tr th:only-of-type {\n",
              "        vertical-align: middle;\n",
              "    }\n",
              "\n",
              "    .dataframe tbody tr th {\n",
              "        vertical-align: top;\n",
              "    }\n",
              "\n",
              "    .dataframe thead th {\n",
              "        text-align: right;\n",
              "    }\n",
              "</style>\n",
              "<table border=\"1\" class=\"dataframe\">\n",
              "  <thead>\n",
              "    <tr style=\"text-align: right;\">\n",
              "      <th></th>\n",
              "      <th>Tweet</th>\n",
              "      <th>Affect Dimension</th>\n",
              "      <th>Intensity Score</th>\n",
              "    </tr>\n",
              "    <tr>\n",
              "      <th>ID</th>\n",
              "      <th></th>\n",
              "      <th></th>\n",
              "      <th></th>\n",
              "    </tr>\n",
              "  </thead>\n",
              "  <tbody>\n",
              "    <tr>\n",
              "      <th>2017-En-30153</th>\n",
              "      <td>@liamch88 yeah! :) playing well</td>\n",
              "      <td>valence</td>\n",
              "      <td>0.600</td>\n",
              "    </tr>\n",
              "    <tr>\n",
              "      <th>2017-En-40929</th>\n",
              "      <td>At least I don't have a guy trying to discoura...</td>\n",
              "      <td>valence</td>\n",
              "      <td>0.484</td>\n",
              "    </tr>\n",
              "    <tr>\n",
              "      <th>2017-En-22012</th>\n",
              "      <td>UPLIFT: If you're still discouraged it means y...</td>\n",
              "      <td>valence</td>\n",
              "      <td>0.563</td>\n",
              "    </tr>\n",
              "    <tr>\n",
              "      <th>2017-En-30837</th>\n",
              "      <td>...at your age, the heyday in the blood is tam...</td>\n",
              "      <td>valence</td>\n",
              "      <td>0.450</td>\n",
              "    </tr>\n",
              "    <tr>\n",
              "      <th>2017-En-30838</th>\n",
              "      <td>i was so embarrassed when she saw us i was lik...</td>\n",
              "      <td>valence</td>\n",
              "      <td>0.233</td>\n",
              "    </tr>\n",
              "  </tbody>\n",
              "</table>\n",
              "</div>"
            ],
            "text/plain": [
              "                                                           Tweet  ... Intensity Score\n",
              "ID                                                                ...                \n",
              "2017-En-30153                   @liamch88 yeah! :) playing well   ...           0.600\n",
              "2017-En-40929  At least I don't have a guy trying to discoura...  ...           0.484\n",
              "2017-En-22012  UPLIFT: If you're still discouraged it means y...  ...           0.563\n",
              "2017-En-30837  ...at your age, the heyday in the blood is tam...  ...           0.450\n",
              "2017-En-30838  i was so embarrassed when she saw us i was lik...  ...           0.233\n",
              "\n",
              "[5 rows x 3 columns]"
            ]
          },
          "metadata": {
            "tags": []
          },
          "execution_count": 5
        }
      ]
    },
    {
      "cell_type": "code",
      "metadata": {
        "colab": {
          "base_uri": "https://localhost:8080/"
        },
        "id": "79hmO-Fceb1h",
        "outputId": "e294b404-c471-4489-d0f3-771761a2b48c"
      },
      "source": [
        "train_df.isnull().sum()"
      ],
      "execution_count": null,
      "outputs": [
        {
          "output_type": "execute_result",
          "data": {
            "text/plain": [
              "Tweet               0\n",
              "Affect Dimension    0\n",
              "Intensity Score     0\n",
              "dtype: int64"
            ]
          },
          "metadata": {
            "tags": []
          },
          "execution_count": 6
        }
      ]
    },
    {
      "cell_type": "code",
      "metadata": {
        "id": "VdknXLTwlnrH"
      },
      "source": [
        "# Convert all the labels from real numbers into boolean values,\n",
        "# setting the threshold at 0.5, and creating a new column named\n",
        "# `label`\n",
        "\n",
        "train_df['label'] = train_df['Intensity Score'] > 0.5 \n",
        "dev_df['label'] = dev_df['Intensity Score'] > 0.5\n",
        "test_df['label'] = test_df['Intensity Score'] > 0.5"
      ],
      "execution_count": null,
      "outputs": []
    },
    {
      "cell_type": "code",
      "metadata": {
        "id": "OiS19FW5nVgX"
      },
      "source": [
        "# helper function to convert categorical label to binary label\n",
        "def int_cast(s):\n",
        "  return int(s == True)"
      ],
      "execution_count": null,
      "outputs": []
    },
    {
      "cell_type": "code",
      "metadata": {
        "id": "f9E2WGZenYX-"
      },
      "source": [
        "train_df['binary label'] = train_df['label'].apply(lambda x: int_cast(x))"
      ],
      "execution_count": null,
      "outputs": []
    },
    {
      "cell_type": "code",
      "metadata": {
        "id": "_M854J73n3x6"
      },
      "source": [
        "dev_df['binary label'] = dev_df['label'].apply(lambda x: int_cast(x))\n",
        "test_df['binary label'] = test_df['label'].apply(lambda x: int_cast(x))"
      ],
      "execution_count": null,
      "outputs": []
    },
    {
      "cell_type": "code",
      "metadata": {
        "colab": {
          "base_uri": "https://localhost:8080/",
          "height": 237
        },
        "id": "8omBadjZlrTM",
        "outputId": "12bcbeba-88cb-4bef-e613-51f13c0ff610"
      },
      "source": [
        "train_df.head()"
      ],
      "execution_count": null,
      "outputs": [
        {
          "output_type": "execute_result",
          "data": {
            "text/html": [
              "<div>\n",
              "<style scoped>\n",
              "    .dataframe tbody tr th:only-of-type {\n",
              "        vertical-align: middle;\n",
              "    }\n",
              "\n",
              "    .dataframe tbody tr th {\n",
              "        vertical-align: top;\n",
              "    }\n",
              "\n",
              "    .dataframe thead th {\n",
              "        text-align: right;\n",
              "    }\n",
              "</style>\n",
              "<table border=\"1\" class=\"dataframe\">\n",
              "  <thead>\n",
              "    <tr style=\"text-align: right;\">\n",
              "      <th></th>\n",
              "      <th>Tweet</th>\n",
              "      <th>Affect Dimension</th>\n",
              "      <th>Intensity Score</th>\n",
              "      <th>label</th>\n",
              "      <th>binary label</th>\n",
              "    </tr>\n",
              "    <tr>\n",
              "      <th>ID</th>\n",
              "      <th></th>\n",
              "      <th></th>\n",
              "      <th></th>\n",
              "      <th></th>\n",
              "      <th></th>\n",
              "    </tr>\n",
              "  </thead>\n",
              "  <tbody>\n",
              "    <tr>\n",
              "      <th>2017-En-30153</th>\n",
              "      <td>@liamch88 yeah! :) playing well</td>\n",
              "      <td>valence</td>\n",
              "      <td>0.600</td>\n",
              "      <td>True</td>\n",
              "      <td>1</td>\n",
              "    </tr>\n",
              "    <tr>\n",
              "      <th>2017-En-40929</th>\n",
              "      <td>At least I don't have a guy trying to discoura...</td>\n",
              "      <td>valence</td>\n",
              "      <td>0.484</td>\n",
              "      <td>False</td>\n",
              "      <td>0</td>\n",
              "    </tr>\n",
              "    <tr>\n",
              "      <th>2017-En-22012</th>\n",
              "      <td>UPLIFT: If you're still discouraged it means y...</td>\n",
              "      <td>valence</td>\n",
              "      <td>0.563</td>\n",
              "      <td>True</td>\n",
              "      <td>1</td>\n",
              "    </tr>\n",
              "    <tr>\n",
              "      <th>2017-En-30837</th>\n",
              "      <td>...at your age, the heyday in the blood is tam...</td>\n",
              "      <td>valence</td>\n",
              "      <td>0.450</td>\n",
              "      <td>False</td>\n",
              "      <td>0</td>\n",
              "    </tr>\n",
              "    <tr>\n",
              "      <th>2017-En-30838</th>\n",
              "      <td>i was so embarrassed when she saw us i was lik...</td>\n",
              "      <td>valence</td>\n",
              "      <td>0.233</td>\n",
              "      <td>False</td>\n",
              "      <td>0</td>\n",
              "    </tr>\n",
              "  </tbody>\n",
              "</table>\n",
              "</div>"
            ],
            "text/plain": [
              "                                                           Tweet  ... binary label\n",
              "ID                                                                ...             \n",
              "2017-En-30153                   @liamch88 yeah! :) playing well   ...            1\n",
              "2017-En-40929  At least I don't have a guy trying to discoura...  ...            0\n",
              "2017-En-22012  UPLIFT: If you're still discouraged it means y...  ...            1\n",
              "2017-En-30837  ...at your age, the heyday in the blood is tam...  ...            0\n",
              "2017-En-30838  i was so embarrassed when she saw us i was lik...  ...            0\n",
              "\n",
              "[5 rows x 5 columns]"
            ]
          },
          "metadata": {
            "tags": []
          },
          "execution_count": 11
        }
      ]
    },
    {
      "cell_type": "markdown",
      "metadata": {
        "id": "0dQBplcjzFR8"
      },
      "source": [
        "### Prepare word embeddings: Word2Vec trained with Google News"
      ]
    },
    {
      "cell_type": "code",
      "metadata": {
        "id": "1Xe0GZiKlt3M"
      },
      "source": [
        "%%bash\n",
        "\n",
        "wget https://s3.amazonaws.com/dl4j-distribution/GoogleNews-vectors-negative300.bin.gz \\\n",
        "     -O GoogleNews-vectors-negative300.bin.gz -q"
      ],
      "execution_count": null,
      "outputs": []
    },
    {
      "cell_type": "code",
      "metadata": {
        "id": "00kpz4lklx7J"
      },
      "source": [
        "from gensim.models import KeyedVectors\n",
        "\n",
        "# Limit vocabulary to top-500K most frequent words\n",
        "VOCAB_SIZE = 500000\n",
        "\n",
        "# Load the word2vec\n",
        "w2v_model = KeyedVectors.load_word2vec_format('GoogleNews-vectors-negative300.bin.gz',\n",
        "                                              binary=True,\n",
        "                                              limit=VOCAB_SIZE)"
      ],
      "execution_count": null,
      "outputs": []
    },
    {
      "cell_type": "code",
      "metadata": {
        "id": "YyMvQYVFl0ky"
      },
      "source": [
        "# Get the vector embedding for a word\n",
        "#w2v_model['home']"
      ],
      "execution_count": null,
      "outputs": []
    },
    {
      "cell_type": "code",
      "metadata": {
        "colab": {
          "base_uri": "https://localhost:8080/"
        },
        "id": "gJ0UUohJl2q0",
        "outputId": "2e702bad-5649-42a7-94e5-fcdf3396f6ae"
      },
      "source": [
        "len(w2v_model['home'])"
      ],
      "execution_count": null,
      "outputs": [
        {
          "output_type": "execute_result",
          "data": {
            "text/plain": [
              "300"
            ]
          },
          "metadata": {
            "tags": []
          },
          "execution_count": 15
        }
      ]
    },
    {
      "cell_type": "code",
      "metadata": {
        "colab": {
          "base_uri": "https://localhost:8080/"
        },
        "id": "3sZAq-rKl61e",
        "outputId": "e64101b5-2ff1-4fef-be17-acf9a7cc9796"
      },
      "source": [
        "# Check whether there is an embedding for a word\n",
        "'bazinga' in w2v_model"
      ],
      "execution_count": null,
      "outputs": [
        {
          "output_type": "execute_result",
          "data": {
            "text/plain": [
              "False"
            ]
          },
          "metadata": {
            "tags": []
          },
          "execution_count": 16
        }
      ]
    },
    {
      "cell_type": "markdown",
      "metadata": {
        "id": "tVWy4HP0zYv5"
      },
      "source": [
        "### Pre-processing on word features"
      ]
    },
    {
      "cell_type": "code",
      "metadata": {
        "colab": {
          "base_uri": "https://localhost:8080/"
        },
        "id": "BBSp1HHul-bq",
        "outputId": "efe434db-a6da-4acb-885e-3e35395be6cb"
      },
      "source": [
        "from gensim.parsing.preprocessing import (preprocess_string,\n",
        "                                          strip_tags,\n",
        "                                          strip_punctuation,\n",
        "                                          strip_multiple_whitespaces,\n",
        "                                          strip_numeric,\n",
        "                                          remove_stopwords)\n",
        "\n",
        "\n",
        "# We pick a subset of the default filters,\n",
        "# in particular, we do not take\n",
        "# strip_short() and stem_text().\n",
        "FILTERS = [strip_punctuation,\n",
        "           strip_tags,\n",
        "           strip_multiple_whitespaces,\n",
        "           strip_numeric,\n",
        "           remove_stopwords]\n",
        "\n",
        "# See how the sentece is transformed into tokes (words)\n",
        "preprocess_string('This is a \"short\" text!', FILTERS)"
      ],
      "execution_count": null,
      "outputs": [
        {
          "output_type": "execute_result",
          "data": {
            "text/plain": [
              "['This', 'short', 'text']"
            ]
          },
          "metadata": {
            "tags": []
          },
          "execution_count": 14
        }
      ]
    },
    {
      "cell_type": "code",
      "metadata": {
        "id": "loNBVpJDmExZ"
      },
      "source": [
        "import numpy as np"
      ],
      "execution_count": null,
      "outputs": []
    },
    {
      "cell_type": "code",
      "metadata": {
        "id": "ski8TthimHHZ"
      },
      "source": [
        "def generate_text_features(text, w2v):\n",
        "\n",
        "    processed_text = preprocess_string(text, FILTERS)\n",
        "    \n",
        "    words = [word for word in processed_text if word in w2v_model]\n",
        "\n",
        "    if len(words) >= 1:\n",
        "        return np.mean(w2v_model[words], axis=0)\n",
        "    else:\n",
        "        return []\n",
        "    "
      ],
      "execution_count": null,
      "outputs": []
    },
    {
      "cell_type": "code",
      "metadata": {
        "id": "Kv4GlHRrmLHD"
      },
      "source": [
        "train_df['Embeddings'] = train_df['Tweet'].apply(lambda x: generate_text_features(x, w2v_model))"
      ],
      "execution_count": null,
      "outputs": []
    },
    {
      "cell_type": "code",
      "metadata": {
        "id": "M8SNUovtmPVT"
      },
      "source": [
        "dev_df['Embeddings'] = dev_df['Tweet'].apply(lambda x: generate_text_features(x, w2v_model))\n",
        "test_df['Embeddings'] = test_df['Tweet'].apply(lambda x: generate_text_features(x, w2v_model))"
      ],
      "execution_count": null,
      "outputs": []
    },
    {
      "cell_type": "code",
      "metadata": {
        "id": "yTfr1_Z1fo5K"
      },
      "source": [
        ""
      ],
      "execution_count": null,
      "outputs": []
    },
    {
      "cell_type": "code",
      "metadata": {
        "colab": {
          "base_uri": "https://localhost:8080/"
        },
        "id": "BaGSjupqFCHc",
        "outputId": "1990f43c-8002-44c3-b147-4af16d48960e"
      },
      "source": [
        "num_emp = 0\n",
        "num_row = 0\n",
        "for emb in train_df['Embeddings']:\n",
        "  num_row+=1\n",
        "  if emb ==[]:\n",
        "    num_emp +=1\n",
        "    print(num_row)\n"
      ],
      "execution_count": null,
      "outputs": [
        {
          "output_type": "stream",
          "text": [
            "947\n"
          ],
          "name": "stdout"
        },
        {
          "output_type": "stream",
          "text": [
            "/usr/local/lib/python3.7/dist-packages/ipykernel_launcher.py:5: DeprecationWarning: elementwise comparison failed; this will raise an error in the future.\n"
          ],
          "name": "stderr"
        }
      ]
    },
    {
      "cell_type": "code",
      "metadata": {
        "colab": {
          "base_uri": "https://localhost:8080/"
        },
        "id": "Ppda1rmZfWHr",
        "outputId": "6014863a-7db3-441a-9579-1212d31a4900"
      },
      "source": [
        "num_emp"
      ],
      "execution_count": null,
      "outputs": [
        {
          "output_type": "execute_result",
          "data": {
            "text/plain": [
              "1"
            ]
          },
          "metadata": {
            "tags": []
          },
          "execution_count": 23
        }
      ]
    },
    {
      "cell_type": "code",
      "metadata": {
        "colab": {
          "base_uri": "https://localhost:8080/"
        },
        "id": "Jlcb-n2lf8yw",
        "outputId": "b454051e-4e97-4861-eb35-63ce99b433e5"
      },
      "source": [
        "train_df.describe"
      ],
      "execution_count": null,
      "outputs": [
        {
          "output_type": "execute_result",
          "data": {
            "text/plain": [
              "<bound method NDFrame.describe of                                                            Tweet  ...                                         Embeddings\n",
              "ID                                                                ...                                                   \n",
              "2017-En-30153                   @liamch88 yeah! :) playing well   ...  [0.1899414, 0.12072754, 0.008056641, 0.2116699...\n",
              "2017-En-40929  At least I don't have a guy trying to discoura...  ...  [0.037312824, 0.05788676, -0.009847005, 0.1191...\n",
              "2017-En-22012  UPLIFT: If you're still discouraged it means y...  ...  [0.058245342, 0.033650715, 0.059013367, -0.016...\n",
              "2017-En-30837  ...at your age, the heyday in the blood is tam...  ...  [0.025488282, 0.1763672, -0.06201172, -0.03115...\n",
              "2017-En-30838  i was so embarrassed when she saw us i was lik...  ...  [0.0058166506, 0.11234741, 0.020368958, 0.0539...\n",
              "...                                                          ...  ...                                                ...\n",
              "2017-En-30999  @DumTeeDum don't think Ian knew of Pavel. He k...  ...  [0.026423644, 0.013881429, 0.020096842, 0.0671...\n",
              "2017-En-40498                 i lost my wallet lol.... again....  ...  [0.036458332, 0.041422527, -0.0538737, 0.07812...\n",
              "2017-En-30436  repentance, and trusting in Christ. It is lowl...  ...  [0.12270508, 0.048535157, 0.13098145, 0.085293...\n",
              "2017-En-30584  @FoRDaYS14 😳 chewing what? #smile #arcdental #...  ...  [0.16064453, 0.015258789, 0.08691406, 0.175048...\n",
              "2017-En-21917  i am SO anxious all the time leaving the house...  ...  [0.06644694, 0.1110433, 0.059783936, 0.0276082...\n",
              "\n",
              "[1181 rows x 6 columns]>"
            ]
          },
          "metadata": {
            "tags": []
          },
          "execution_count": 24
        }
      ]
    },
    {
      "cell_type": "code",
      "metadata": {
        "colab": {
          "base_uri": "https://localhost:8080/"
        },
        "id": "RQlUN97bgA2V",
        "outputId": "d5e8d374-4c7c-49bd-aab3-cd05885b92a4"
      },
      "source": [
        "train_df.iloc[946]"
      ],
      "execution_count": null,
      "outputs": [
        {
          "output_type": "execute_result",
          "data": {
            "text/plain": [
              "Tweet               @simmy_hanley @Schrise also a \n",
              "Affect Dimension                           valence\n",
              "Intensity Score                              0.452\n",
              "label                                        False\n",
              "binary label                                     0\n",
              "Embeddings                                      []\n",
              "Name: 2017-En-31529, dtype: object"
            ]
          },
          "metadata": {
            "tags": []
          },
          "execution_count": 25
        }
      ]
    },
    {
      "cell_type": "code",
      "metadata": {
        "colab": {
          "base_uri": "https://localhost:8080/",
          "height": 35
        },
        "id": "oHYxu9ECg4Wz",
        "outputId": "1611de2c-a2ac-486f-fda0-9d110227e862"
      },
      "source": [
        "train_df.index[946]"
      ],
      "execution_count": null,
      "outputs": [
        {
          "output_type": "execute_result",
          "data": {
            "application/vnd.google.colaboratory.intrinsic+json": {
              "type": "string"
            },
            "text/plain": [
              "'2017-En-31529'"
            ]
          },
          "metadata": {
            "tags": []
          },
          "execution_count": 38
        }
      ]
    },
    {
      "cell_type": "code",
      "metadata": {
        "colab": {
          "base_uri": "https://localhost:8080/"
        },
        "id": "BVmlsz-GgfmQ",
        "outputId": "fa2f376e-23f9-4ed2-d293-e4fc2fe025ba"
      },
      "source": [
        "train_df.drop(['2017-En-31529'], inplace=True)\n",
        "train_df.iloc[946]"
      ],
      "execution_count": null,
      "outputs": [
        {
          "output_type": "execute_result",
          "data": {
            "text/plain": [
              "Tweet                      gifs on iOS10 messaging app are hilarious.\n",
              "Affect Dimension                                              valence\n",
              "Intensity Score                                                 0.654\n",
              "label                                                            True\n",
              "binary label                                                        1\n",
              "Embeddings          [0.15008545, -0.22180176, -0.19128418, 0.05357...\n",
              "Name: 2017-En-31268, dtype: object"
            ]
          },
          "metadata": {
            "tags": []
          },
          "execution_count": 41
        }
      ]
    },
    {
      "cell_type": "code",
      "metadata": {
        "id": "HbQ6gCyNNTeV",
        "colab": {
          "base_uri": "https://localhost:8080/"
        },
        "outputId": "e5f8ad3d-4995-48cf-bf45-533394016f5d"
      },
      "source": [
        "dev_df.describe"
      ],
      "execution_count": null,
      "outputs": [
        {
          "output_type": "execute_result",
          "data": {
            "text/plain": [
              "<bound method NDFrame.describe of                                                            Tweet  ...                                         Embeddings\n",
              "ID                                                                ...                                                   \n",
              "2018-En-02354  So @Ryanair site crashes everytime I try to bo...  ...  [0.07304382, 0.051412582, 0.03186035, 0.063056...\n",
              "2018-En-00124  Theme of week: Ask the Lord for strength &amp;...  ...  [0.042944226, 0.1165717, -0.000113351, -0.0062...\n",
              "2018-En-02603  @F1 Why announcing so late, it will be hard to...  ...  [0.052856445, 0.08341217, 0.075790405, 0.11111...\n",
              "2018-En-00450  The greatest happiness is seeing someone you l...  ...  [0.03924942, 0.103393555, 0.053723335, 0.12658...\n",
              "2018-En-00502  omg so grateful to have an education but ive b...  ...  [-0.078271486, 0.09213257, -0.052264404, 0.120...\n",
              "...                                                          ...  ...                                                ...\n",
              "2018-En-04182  Idk why but when I help someone,  a smile come...  ...  [0.1526591, 0.03557078, 0.11963908, 0.10212199...\n",
              "2018-En-01428  I think 'Sleep' is my favorite from How did we...  ...  [0.017333984, 0.03286133, 0.020880127, 0.20268...\n",
              "2018-En-01755  What does Amelia want?! Sarah was v grateful  ...  ...  [-0.05226353, 0.0042027063, -0.05182757, -0.01...\n",
              "2018-En-01911  It’s lack of #faith that makes #people #afraid...  ...  [0.06677246, 0.023166232, 0.009643555, 0.08673...\n",
              "2018-En-03038  James Clapper 'scary and disturbing'.  #25thAm...  ...  [0.18740234, 0.005419922, 0.07566986, 0.018164...\n",
              "\n",
              "[449 rows x 6 columns]>"
            ]
          },
          "metadata": {
            "tags": []
          },
          "execution_count": 27
        }
      ]
    },
    {
      "cell_type": "code",
      "metadata": {
        "colab": {
          "base_uri": "https://localhost:8080/"
        },
        "id": "4GQFMQolhFTU",
        "outputId": "9409655c-3062-47a3-c68b-58d5521bafbc"
      },
      "source": [
        "num_emp = 0\n",
        "num_row = 0\n",
        "for emb in dev_df['Embeddings']:\n",
        "  num_row+=1\n",
        "  if emb ==[]:\n",
        "    num_emp +=1\n",
        "    print(num_row)"
      ],
      "execution_count": null,
      "outputs": [
        {
          "output_type": "stream",
          "text": [
            "/usr/local/lib/python3.7/dist-packages/ipykernel_launcher.py:5: DeprecationWarning: elementwise comparison failed; this will raise an error in the future.\n"
          ],
          "name": "stderr"
        }
      ]
    },
    {
      "cell_type": "code",
      "metadata": {
        "colab": {
          "base_uri": "https://localhost:8080/"
        },
        "id": "l59MEBrihIYh",
        "outputId": "a2407879-b967-4d56-a008-adcc4b3cdc97"
      },
      "source": [
        "dev_df.iloc[375]"
      ],
      "execution_count": null,
      "outputs": [
        {
          "output_type": "execute_result",
          "data": {
            "text/plain": [
              "Tweet               @iamjpk @NameisNani what the phd!  eesav gatti...\n",
              "Affect Dimension                                              valence\n",
              "Intensity Score                                                 0.714\n",
              "label                                                            True\n",
              "binary label                                                        1\n",
              "Embeddings                                                         []\n",
              "Name: 2018-En-02255, dtype: object"
            ]
          },
          "metadata": {
            "tags": []
          },
          "execution_count": 44
        }
      ]
    },
    {
      "cell_type": "code",
      "metadata": {
        "colab": {
          "base_uri": "https://localhost:8080/",
          "height": 35
        },
        "id": "7hhqGQTuhP_4",
        "outputId": "d76d4b0f-bcc5-4d22-c688-1e0302c35f56"
      },
      "source": [
        "dev_df.index[375]"
      ],
      "execution_count": null,
      "outputs": [
        {
          "output_type": "execute_result",
          "data": {
            "application/vnd.google.colaboratory.intrinsic+json": {
              "type": "string"
            },
            "text/plain": [
              "'2018-En-02255'"
            ]
          },
          "metadata": {
            "tags": []
          },
          "execution_count": 46
        }
      ]
    },
    {
      "cell_type": "code",
      "metadata": {
        "colab": {
          "base_uri": "https://localhost:8080/"
        },
        "id": "xocl4mM6haO6",
        "outputId": "9625f257-c91b-443c-f643-8dd78aacbb96"
      },
      "source": [
        "dev_df.drop(['2018-En-02255'], inplace=True)\n",
        "dev_df.iloc[375]"
      ],
      "execution_count": null,
      "outputs": [
        {
          "output_type": "execute_result",
          "data": {
            "text/plain": [
              "Tweet               @candycmarketing What happens if you don't wan...\n",
              "Affect Dimension                                              valence\n",
              "Intensity Score                                                 0.783\n",
              "label                                                            True\n",
              "binary label                                                        1\n",
              "Embeddings          [-0.0006781684, 0.07823096, 0.031304255, 0.129...\n",
              "Name: 2018-En-00321, dtype: object"
            ]
          },
          "metadata": {
            "tags": []
          },
          "execution_count": 47
        }
      ]
    },
    {
      "cell_type": "code",
      "metadata": {
        "id": "JjtTAzmNNWiC",
        "colab": {
          "base_uri": "https://localhost:8080/"
        },
        "outputId": "9f88340b-d41d-4c78-a628-854f7d8a6517"
      },
      "source": [
        "test_df.describe"
      ],
      "execution_count": null,
      "outputs": [
        {
          "output_type": "execute_result",
          "data": {
            "text/plain": [
              "<bound method NDFrame.describe of                                                            Tweet  ...                                         Embeddings\n",
              "ID                                                                ...                                                   \n",
              "2018-En-01964                           Gm and have a  #Tuesday!  ...  [0.072021484, 0.13427734, 0.17773438, -0.07031...\n",
              "2018-En-01539  @realDonaldTrump But you have a lot of time fo...  ...  [0.059179686, 0.1439209, -0.0057006837, 0.0945...\n",
              "2018-En-04235  I graduated yesterday and already had 8 family...  ...  [0.028259277, 0.042824484, -0.035000887, 0.048...\n",
              "2018-En-03711  @jaimitoelcrack7 Seriously...I've been sitting...  ...  [0.037365723, 0.11878662, 0.040841676, 0.10423...\n",
              "2018-En-01177  Whether my glass is half empty or its half ful...  ...  [-0.04997762, 0.070887245, 0.012512207, 0.1172...\n",
              "...                                                          ...  ...                                                ...\n",
              "2018-En-04059  Premier League Teams should fear next seasons ...  ...  [-0.09113407, 0.029247284, 0.07443237, 0.09552...\n",
              "2018-En-01488  how are you my love? @Hashtag_DonJon love youu...  ...  [0.1086077, 0.039097376, 0.07233538, 0.1024344...\n",
              "2018-En-02648  'She is the clothed with strength and dignity,...  ...  [0.102260046, 0.068978444, 0.061767578, 0.1309...\n",
              "2018-En-03444  My dads big day is only less than 2 weeks away...  ...  [-0.042323522, 0.082101, -0.028076172, 0.09619...\n",
              "2018-En-04040  And let the depression take the stage once more 🙃  ...  [0.008483887, 0.04534912, -0.025634766, 0.1399...\n",
              "\n",
              "[937 rows x 6 columns]>"
            ]
          },
          "metadata": {
            "tags": []
          },
          "execution_count": 28
        }
      ]
    },
    {
      "cell_type": "code",
      "metadata": {
        "colab": {
          "base_uri": "https://localhost:8080/"
        },
        "id": "pZNBxFjUhh3v",
        "outputId": "b643c1b5-3ea1-44d1-f0cf-40b5257a7eae"
      },
      "source": [
        "num_emp = 0\n",
        "num_row = 0\n",
        "for emb in test_df['Embeddings']:\n",
        "  num_row+=1\n",
        "  if emb ==[]:\n",
        "    num_emp +=1\n",
        "    print(num_row)"
      ],
      "execution_count": null,
      "outputs": [
        {
          "output_type": "stream",
          "text": [
            "626\n",
            "678\n",
            "898\n"
          ],
          "name": "stdout"
        },
        {
          "output_type": "stream",
          "text": [
            "/usr/local/lib/python3.7/dist-packages/ipykernel_launcher.py:5: DeprecationWarning: elementwise comparison failed; this will raise an error in the future.\n"
          ],
          "name": "stderr"
        }
      ]
    },
    {
      "cell_type": "code",
      "metadata": {
        "colab": {
          "base_uri": "https://localhost:8080/"
        },
        "id": "_0h-c5Oghjrr",
        "outputId": "778d9d27-8e2f-4169-fb23-ef7051591a6c"
      },
      "source": [
        "test_df.index[[626,678,898]]"
      ],
      "execution_count": null,
      "outputs": [
        {
          "output_type": "execute_result",
          "data": {
            "text/plain": [
              "Index(['2018-En-03503', '2018-En-03216', '2018-En-01281'], dtype='object', name='ID')"
            ]
          },
          "metadata": {
            "tags": []
          },
          "execution_count": 50
        }
      ]
    },
    {
      "cell_type": "code",
      "metadata": {
        "colab": {
          "base_uri": "https://localhost:8080/",
          "height": 244
        },
        "id": "w9aZ51XchpN0",
        "outputId": "95d7f5ed-27af-4d9b-da70-dfa6352a75a1"
      },
      "source": [
        "test_df.drop(['2018-En-03503', '2018-En-03216', '2018-En-01281'], inplace=True)\n",
        "test_df.iloc[[626,678,898]]"
      ],
      "execution_count": null,
      "outputs": [
        {
          "output_type": "execute_result",
          "data": {
            "text/html": [
              "<div>\n",
              "<style scoped>\n",
              "    .dataframe tbody tr th:only-of-type {\n",
              "        vertical-align: middle;\n",
              "    }\n",
              "\n",
              "    .dataframe tbody tr th {\n",
              "        vertical-align: top;\n",
              "    }\n",
              "\n",
              "    .dataframe thead th {\n",
              "        text-align: right;\n",
              "    }\n",
              "</style>\n",
              "<table border=\"1\" class=\"dataframe\">\n",
              "  <thead>\n",
              "    <tr style=\"text-align: right;\">\n",
              "      <th></th>\n",
              "      <th>Tweet</th>\n",
              "      <th>Affect Dimension</th>\n",
              "      <th>Intensity Score</th>\n",
              "      <th>label</th>\n",
              "      <th>binary label</th>\n",
              "      <th>Embeddings</th>\n",
              "    </tr>\n",
              "    <tr>\n",
              "      <th>ID</th>\n",
              "      <th></th>\n",
              "      <th></th>\n",
              "      <th></th>\n",
              "      <th></th>\n",
              "      <th></th>\n",
              "      <th></th>\n",
              "    </tr>\n",
              "  </thead>\n",
              "  <tbody>\n",
              "    <tr>\n",
              "      <th>2018-En-01351</th>\n",
              "      <td>@alb353 @thehugheslady @TelegraphNews @paulwes...</td>\n",
              "      <td>valence</td>\n",
              "      <td>0.391</td>\n",
              "      <td>False</td>\n",
              "      <td>0</td>\n",
              "      <td>[0.15799968, -0.0013020834, 0.12556966, 0.0416...</td>\n",
              "    </tr>\n",
              "    <tr>\n",
              "      <th>2018-En-02337</th>\n",
              "      <td>Mothafuckas wanna adopt the dark, but I was bo...</td>\n",
              "      <td>valence</td>\n",
              "      <td>0.300</td>\n",
              "      <td>False</td>\n",
              "      <td>0</td>\n",
              "      <td>[0.04477539, 0.0892273, 0.048217773, 0.1174804...</td>\n",
              "    </tr>\n",
              "    <tr>\n",
              "      <th>2018-En-04060</th>\n",
              "      <td>@dp_srk_rk It's going 3 only. He has berdych t...</td>\n",
              "      <td>valence</td>\n",
              "      <td>0.468</td>\n",
              "      <td>False</td>\n",
              "      <td>0</td>\n",
              "      <td>[-0.00423584, 0.072229005, 0.084509276, 0.0425...</td>\n",
              "    </tr>\n",
              "  </tbody>\n",
              "</table>\n",
              "</div>"
            ],
            "text/plain": [
              "                                                           Tweet  ...                                         Embeddings\n",
              "ID                                                                ...                                                   \n",
              "2018-En-01351  @alb353 @thehugheslady @TelegraphNews @paulwes...  ...  [0.15799968, -0.0013020834, 0.12556966, 0.0416...\n",
              "2018-En-02337  Mothafuckas wanna adopt the dark, but I was bo...  ...  [0.04477539, 0.0892273, 0.048217773, 0.1174804...\n",
              "2018-En-04060  @dp_srk_rk It's going 3 only. He has berdych t...  ...  [-0.00423584, 0.072229005, 0.084509276, 0.0425...\n",
              "\n",
              "[3 rows x 6 columns]"
            ]
          },
          "metadata": {
            "tags": []
          },
          "execution_count": 51
        }
      ]
    },
    {
      "cell_type": "code",
      "metadata": {
        "id": "wgIkWxBomTBh",
        "colab": {
          "base_uri": "https://localhost:8080/"
        },
        "outputId": "f262ddd6-13d6-41be-de29-6e97e758b312"
      },
      "source": [
        "train_df['Embeddings'].tail()"
      ],
      "execution_count": null,
      "outputs": [
        {
          "output_type": "execute_result",
          "data": {
            "text/plain": [
              "ID\n",
              "2017-En-30999    [0.026423644, 0.013881429, 0.020096842, 0.0671...\n",
              "2017-En-40498    [0.036458332, 0.041422527, -0.0538737, 0.07812...\n",
              "2017-En-30436    [0.12270508, 0.048535157, 0.13098145, 0.085293...\n",
              "2017-En-30584    [0.16064453, 0.015258789, 0.08691406, 0.175048...\n",
              "2017-En-21917    [0.06644694, 0.1110433, 0.059783936, 0.0276082...\n",
              "Name: Embeddings, dtype: object"
            ]
          },
          "metadata": {
            "tags": []
          },
          "execution_count": 30
        }
      ]
    },
    {
      "cell_type": "code",
      "metadata": {
        "id": "UMgjysI9sDbd"
      },
      "source": [
        "train_df['Embeddings']"
      ],
      "execution_count": null,
      "outputs": []
    },
    {
      "cell_type": "markdown",
      "metadata": {
        "id": "dTFKgYZ8zoel"
      },
      "source": [
        "### Converting word embeddings from pandas series to numpy arrays\n",
        "\n"
      ]
    },
    {
      "cell_type": "code",
      "metadata": {
        "id": "A2bDQXxEJfNj"
      },
      "source": [
        "# helper function that takes word embeddings in dataframe and returns numpy ndarrays\n",
        "\n",
        "def convert_to_array(df):\n",
        "  embeddings = []\n",
        "  for index, val in df['Embeddings'].items():\n",
        "    embeddings.append(val)\n",
        "  arr = np.array(embeddings[0])\n",
        "  for elem in embeddings[1:]:\n",
        "    arr2 = np.array(elem)\n",
        "    if len(arr2)==300:\n",
        "      arr = np.vstack((arr,arr2))\n",
        "  \n",
        "  return arr"
      ],
      "execution_count": null,
      "outputs": []
    },
    {
      "cell_type": "code",
      "metadata": {
        "id": "hIuOQFmwKBlM"
      },
      "source": [
        "def convert_to_array(df, model_name):\n",
        "  embeddings = []\n",
        "  for index, val in df['Embeddings_'+model_name].items():\n",
        "    embeddings.append(val)\n",
        "  arr = np.array(embeddings[0])\n",
        "  for elem in embeddings[1:]:\n",
        "    arr2 = np.array(elem)\n",
        "    if len(arr2)==300:\n",
        "      arr = np.vstack((arr,arr2))\n",
        "  \n",
        "  return arr"
      ],
      "execution_count": null,
      "outputs": []
    },
    {
      "cell_type": "markdown",
      "metadata": {
        "id": "kDyBe-lwz1dq"
      },
      "source": [
        "## Modeling"
      ]
    },
    {
      "cell_type": "markdown",
      "metadata": {
        "id": "gXWELKig1gi5"
      },
      "source": [
        "### Model #1: Logistic regression"
      ]
    },
    {
      "cell_type": "code",
      "metadata": {
        "id": "VBH8ly8Gmb0G"
      },
      "source": [
        "from sklearn.linear_model import LogisticRegression"
      ],
      "execution_count": null,
      "outputs": []
    },
    {
      "cell_type": "code",
      "metadata": {
        "id": "CIhJBAz93xXE"
      },
      "source": [
        "train_embeddings = convert_to_array(train_df)"
      ],
      "execution_count": null,
      "outputs": []
    },
    {
      "cell_type": "code",
      "metadata": {
        "id": "0tiqUAWPmV13"
      },
      "source": [
        "clf_lr = LogisticRegression(random_state=0, penalty=\"l2\", C=0.1).fit(train_embeddings, train_df['binary label'])"
      ],
      "execution_count": null,
      "outputs": []
    },
    {
      "cell_type": "code",
      "metadata": {
        "id": "_V6WryanMYD0"
      },
      "source": [
        "dev_embeddings = convert_to_array(dev_df)"
      ],
      "execution_count": null,
      "outputs": []
    },
    {
      "cell_type": "code",
      "metadata": {
        "id": "gHxJA3MZLDmB"
      },
      "source": [
        "# clf_lr.predict(dev_embeddings)"
      ],
      "execution_count": null,
      "outputs": []
    },
    {
      "cell_type": "code",
      "metadata": {
        "id": "IMt3qVafMz3p"
      },
      "source": [
        "# clf_lr.predict_proba(dev_embeddings)"
      ],
      "execution_count": null,
      "outputs": []
    },
    {
      "cell_type": "code",
      "metadata": {
        "colab": {
          "base_uri": "https://localhost:8080/"
        },
        "id": "_DzOIrBrM4d3",
        "outputId": "2253c7f2-e1c1-4b93-e189-e57ff96ba83f"
      },
      "source": [
        "# validation score\n",
        "clf_lr.score(dev_embeddings, dev_df['binary label'])"
      ],
      "execution_count": null,
      "outputs": [
        {
          "output_type": "execute_result",
          "data": {
            "text/plain": [
              "0.765625"
            ]
          },
          "metadata": {
            "tags": []
          },
          "execution_count": 58
        }
      ]
    },
    {
      "cell_type": "markdown",
      "metadata": {
        "id": "JjSVz3WE1o2k"
      },
      "source": [
        "#### Scores"
      ]
    },
    {
      "cell_type": "code",
      "metadata": {
        "id": "rfT-Ka-GNB6w"
      },
      "source": [
        "test_embeddings = convert_to_array(test_df)"
      ],
      "execution_count": null,
      "outputs": []
    },
    {
      "cell_type": "code",
      "metadata": {
        "colab": {
          "base_uri": "https://localhost:8080/"
        },
        "id": "lL2JuWfUNpJ3",
        "outputId": "d6cdf91e-4a6b-48a1-b25f-bc200fd8d1a5"
      },
      "source": [
        "test_embeddings.shape"
      ],
      "execution_count": null,
      "outputs": [
        {
          "output_type": "execute_result",
          "data": {
            "text/plain": [
              "(931, 300)"
            ]
          },
          "metadata": {
            "tags": []
          },
          "execution_count": 65
        }
      ]
    },
    {
      "cell_type": "code",
      "metadata": {
        "colab": {
          "base_uri": "https://localhost:8080/"
        },
        "id": "WR_rlD5GOEH6",
        "outputId": "a200c6c9-1ff6-48ef-b0f6-d0ce7d6d9578"
      },
      "source": [
        "len(test_embeddings)"
      ],
      "execution_count": null,
      "outputs": [
        {
          "output_type": "execute_result",
          "data": {
            "text/plain": [
              "931"
            ]
          },
          "metadata": {
            "tags": []
          },
          "execution_count": 66
        }
      ]
    },
    {
      "cell_type": "code",
      "metadata": {
        "colab": {
          "base_uri": "https://localhost:8080/"
        },
        "id": "WRjCsSYRNu3n",
        "outputId": "76f91fe9-831b-4bc0-95de-e333299fb7b8"
      },
      "source": [
        "len(test_df['binary label'])"
      ],
      "execution_count": null,
      "outputs": [
        {
          "output_type": "execute_result",
          "data": {
            "text/plain": [
              "934"
            ]
          },
          "metadata": {
            "tags": []
          },
          "execution_count": 67
        }
      ]
    },
    {
      "cell_type": "code",
      "metadata": {
        "colab": {
          "base_uri": "https://localhost:8080/"
        },
        "id": "Tqk6JInwmh8N",
        "outputId": "9082310f-b2e4-4647-cd46-74d932d087fd"
      },
      "source": [
        "# test score\n",
        "clf_lr.score(test_embeddings, test_df['binary label'][1:len(test_embeddings)+1])"
      ],
      "execution_count": null,
      "outputs": [
        {
          "output_type": "execute_result",
          "data": {
            "text/plain": [
              "0.5091299677765844"
            ]
          },
          "metadata": {
            "tags": []
          },
          "execution_count": 68
        }
      ]
    },
    {
      "cell_type": "markdown",
      "metadata": {
        "id": "G5tOczaB3GrQ"
      },
      "source": [
        "### Model #2: Support Vector Machine"
      ]
    },
    {
      "cell_type": "code",
      "metadata": {
        "colab": {
          "base_uri": "https://localhost:8080/"
        },
        "id": "5G8KlQ-w3QoS",
        "outputId": "613c7fbe-9535-45c1-fda7-589de6ebda4b"
      },
      "source": [
        "from sklearn import svm\n",
        "\n",
        "clf_svm = svm.SVC()\n",
        "clf_svm.fit(train_embeddings, train_df['binary label'])"
      ],
      "execution_count": null,
      "outputs": [
        {
          "output_type": "execute_result",
          "data": {
            "text/plain": [
              "SVC(C=1.0, break_ties=False, cache_size=200, class_weight=None, coef0=0.0,\n",
              "    decision_function_shape='ovr', degree=3, gamma='scale', kernel='rbf',\n",
              "    max_iter=-1, probability=False, random_state=None, shrinking=True,\n",
              "    tol=0.001, verbose=False)"
            ]
          },
          "metadata": {
            "tags": []
          },
          "execution_count": 70
        }
      ]
    },
    {
      "cell_type": "code",
      "metadata": {
        "colab": {
          "base_uri": "https://localhost:8080/"
        },
        "id": "frjNqiLZ3mgZ",
        "outputId": "74322b61-b524-4aa1-d32a-cba01bcb4dae"
      },
      "source": [
        "# validation score\n",
        "clf_svm.score(dev_embeddings, dev_df['binary label'])"
      ],
      "execution_count": null,
      "outputs": [
        {
          "output_type": "execute_result",
          "data": {
            "text/plain": [
              "0.7834821428571429"
            ]
          },
          "metadata": {
            "tags": []
          },
          "execution_count": 71
        }
      ]
    },
    {
      "cell_type": "code",
      "metadata": {
        "colab": {
          "base_uri": "https://localhost:8080/"
        },
        "id": "agjcLm2g6u5a",
        "outputId": "2a6dbcb2-bafd-4a6e-bc11-4f6f39082b59"
      },
      "source": [
        "clf_svm.score(test_embeddings, test_df['binary label'][1:len(test_embeddings)+1])"
      ],
      "execution_count": null,
      "outputs": [
        {
          "output_type": "execute_result",
          "data": {
            "text/plain": [
              "0.5005370569280344"
            ]
          },
          "metadata": {
            "tags": []
          },
          "execution_count": 72
        }
      ]
    },
    {
      "cell_type": "markdown",
      "metadata": {
        "id": "HBhRKHYV60uS"
      },
      "source": [
        "### Model #3: Using TextBlob"
      ]
    },
    {
      "cell_type": "code",
      "metadata": {
        "id": "gJDq_Y7J_u_1"
      },
      "source": [
        "from textblob import TextBlob"
      ],
      "execution_count": null,
      "outputs": []
    },
    {
      "cell_type": "code",
      "metadata": {
        "id": "3uDEi9l1AAyt"
      },
      "source": [
        "# compute sentiment scores (polarity) and labels\n",
        "sentiment_scores_tb = [round(TextBlob(tweet).sentiment.polarity, 3) for tweet in train_df['Tweet']]\n",
        "sentiment_category_tb = ['positive' if score > 0 \n",
        "                             else 'negative' if score < 0 \n",
        "                                 else 'neutral' \n",
        "                                     for score in sentiment_scores_tb]"
      ],
      "execution_count": null,
      "outputs": []
    },
    {
      "cell_type": "code",
      "metadata": {
        "id": "1Z6FuLjY_sFs"
      },
      "source": [
        "# sentiment statistics per news category\n",
        "df = pd.DataFrame([list(train_df['Tweet']), sentiment_scores_tb, sentiment_category_tb]).T\n",
        "df.columns = ['Tweet', 'sentiment_score', 'sentiment_category']\n",
        "df['sentiment_score'] = df.sentiment_score.astype('float')\n",
        "#df.groupby(by=['news_category']).describe()"
      ],
      "execution_count": null,
      "outputs": []
    },
    {
      "cell_type": "code",
      "metadata": {
        "colab": {
          "base_uri": "https://localhost:8080/",
          "height": 206
        },
        "id": "NqXkpo6mAPg9",
        "outputId": "46b68e79-7260-4cd5-bcdb-11593814cc14"
      },
      "source": [
        "df.head()"
      ],
      "execution_count": null,
      "outputs": [
        {
          "output_type": "execute_result",
          "data": {
            "text/html": [
              "<div>\n",
              "<style scoped>\n",
              "    .dataframe tbody tr th:only-of-type {\n",
              "        vertical-align: middle;\n",
              "    }\n",
              "\n",
              "    .dataframe tbody tr th {\n",
              "        vertical-align: top;\n",
              "    }\n",
              "\n",
              "    .dataframe thead th {\n",
              "        text-align: right;\n",
              "    }\n",
              "</style>\n",
              "<table border=\"1\" class=\"dataframe\">\n",
              "  <thead>\n",
              "    <tr style=\"text-align: right;\">\n",
              "      <th></th>\n",
              "      <th>Tweet</th>\n",
              "      <th>sentiment_score</th>\n",
              "      <th>sentiment_category</th>\n",
              "    </tr>\n",
              "  </thead>\n",
              "  <tbody>\n",
              "    <tr>\n",
              "      <th>0</th>\n",
              "      <td>@liamch88 yeah! :) playing well</td>\n",
              "      <td>0.500</td>\n",
              "      <td>positive</td>\n",
              "    </tr>\n",
              "    <tr>\n",
              "      <th>1</th>\n",
              "      <td>At least I don't have a guy trying to discoura...</td>\n",
              "      <td>0.000</td>\n",
              "      <td>neutral</td>\n",
              "    </tr>\n",
              "    <tr>\n",
              "      <th>2</th>\n",
              "      <td>UPLIFT: If you're still discouraged it means y...</td>\n",
              "      <td>-0.562</td>\n",
              "      <td>negative</td>\n",
              "    </tr>\n",
              "    <tr>\n",
              "      <th>3</th>\n",
              "      <td>...at your age, the heyday in the blood is tam...</td>\n",
              "      <td>-0.217</td>\n",
              "      <td>negative</td>\n",
              "    </tr>\n",
              "    <tr>\n",
              "      <th>4</th>\n",
              "      <td>i was so embarrassed when she saw us i was lik...</td>\n",
              "      <td>0.400</td>\n",
              "      <td>positive</td>\n",
              "    </tr>\n",
              "  </tbody>\n",
              "</table>\n",
              "</div>"
            ],
            "text/plain": [
              "                                               Tweet  ...  sentiment_category\n",
              "0                   @liamch88 yeah! :) playing well   ...            positive\n",
              "1  At least I don't have a guy trying to discoura...  ...             neutral\n",
              "2  UPLIFT: If you're still discouraged it means y...  ...            negative\n",
              "3  ...at your age, the heyday in the blood is tam...  ...            negative\n",
              "4  i was so embarrassed when she saw us i was lik...  ...            positive\n",
              "\n",
              "[5 rows x 3 columns]"
            ]
          },
          "metadata": {
            "tags": []
          },
          "execution_count": 45
        }
      ]
    },
    {
      "cell_type": "markdown",
      "metadata": {
        "id": "Zu_HuXk-Ag2B"
      },
      "source": [
        "### Model #4: RNN, LSTM"
      ]
    },
    {
      "cell_type": "code",
      "metadata": {
        "colab": {
          "base_uri": "https://localhost:8080/"
        },
        "id": "l1hHOW54Airf",
        "outputId": "5b404ada-b828-4f7e-f7dc-87120d676865"
      },
      "source": [
        "%tensorflow_version 2.x  # this line is not required unless you are in a notebook\n",
        "# from keras.datasets import imdb\n",
        "from keras.preprocessing import sequence\n",
        "import keras\n",
        "import tensorflow as tf\n",
        "import os\n",
        "#import numpy as np\n",
        "\n",
        "#VOCAB_SIZE = 88584\n",
        "\n",
        "MAXLEN = 250\n",
        "BATCH_SIZE = 64"
      ],
      "execution_count": null,
      "outputs": [
        {
          "output_type": "stream",
          "text": [
            "`%tensorflow_version` only switches the major version: 1.x or 2.x.\n",
            "You set: `2.x  # this line is not required unless you are in a notebook`. This will be interpreted as: `2.x`.\n",
            "\n",
            "\n",
            "TensorFlow 2.x selected.\n"
          ],
          "name": "stdout"
        }
      ]
    },
    {
      "cell_type": "code",
      "metadata": {
        "id": "f8hWgyN0B6WT"
      },
      "source": [
        "# usually a sequence is padded to be kept at same length, but in this case, not necessary\n",
        "\n",
        "#train_data = sequence.pad_sequences(train_data, MAXLEN)\n",
        "#test_data = sequence.pad_sequences(test_data, MAXLEN)"
      ],
      "execution_count": null,
      "outputs": []
    },
    {
      "cell_type": "code",
      "metadata": {
        "id": "g1hmj0hKCHze"
      },
      "source": [
        "model = tf.keras.Sequential([\n",
        "    tf.keras.layers.Embedding(300, 64),\n",
        "    tf.keras.layers.LSTM(64),\n",
        "    tf.keras.layers.Dense(1, activation=\"sigmoid\")\n",
        "])"
      ],
      "execution_count": null,
      "outputs": []
    },
    {
      "cell_type": "code",
      "metadata": {
        "colab": {
          "base_uri": "https://localhost:8080/"
        },
        "id": "f_5MPp8DCMO1",
        "outputId": "3989b28c-bdfc-4bec-b469-bfd74e8ec018"
      },
      "source": [
        "model.summary()"
      ],
      "execution_count": null,
      "outputs": [
        {
          "output_type": "stream",
          "text": [
            "Model: \"sequential_1\"\n",
            "_________________________________________________________________\n",
            "Layer (type)                 Output Shape              Param #   \n",
            "=================================================================\n",
            "embedding_1 (Embedding)      (None, None, 64)          19200     \n",
            "_________________________________________________________________\n",
            "lstm_1 (LSTM)                (None, 64)                33024     \n",
            "_________________________________________________________________\n",
            "dense_1 (Dense)              (None, 1)                 65        \n",
            "=================================================================\n",
            "Total params: 52,289\n",
            "Trainable params: 52,289\n",
            "Non-trainable params: 0\n",
            "_________________________________________________________________\n"
          ],
          "name": "stdout"
        }
      ]
    },
    {
      "cell_type": "code",
      "metadata": {
        "colab": {
          "base_uri": "https://localhost:8080/"
        },
        "id": "PEuNYrFwCPh1",
        "outputId": "67b0f97e-2a2b-4f72-8fd9-f6874d72d91c"
      },
      "source": [
        "model.compile(loss=\"binary_crossentropy\",optimizer=\"rmsprop\",metrics=['acc'])\n",
        "\n",
        "history = model.fit(train_embeddings, train_df['binary label'], epochs=10, validation_split=0.2)"
      ],
      "execution_count": null,
      "outputs": [
        {
          "output_type": "stream",
          "text": [
            "Epoch 1/10\n",
            "30/30 [==============================] - 9s 215ms/step - loss: 0.6942 - acc: 0.4979 - val_loss: 0.6930 - val_acc: 0.5085\n",
            "Epoch 2/10\n",
            "30/30 [==============================] - 6s 194ms/step - loss: 0.6935 - acc: 0.5085 - val_loss: 0.6931 - val_acc: 0.5085\n",
            "Epoch 3/10\n",
            "30/30 [==============================] - 6s 195ms/step - loss: 0.6934 - acc: 0.5148 - val_loss: 0.6930 - val_acc: 0.5085\n",
            "Epoch 4/10\n",
            "30/30 [==============================] - 6s 194ms/step - loss: 0.6935 - acc: 0.5148 - val_loss: 0.6930 - val_acc: 0.5085\n",
            "Epoch 5/10\n",
            "30/30 [==============================] - 6s 194ms/step - loss: 0.6934 - acc: 0.5148 - val_loss: 0.6930 - val_acc: 0.5085\n",
            "Epoch 6/10\n",
            "30/30 [==============================] - 6s 195ms/step - loss: 0.6931 - acc: 0.5148 - val_loss: 0.6930 - val_acc: 0.5085\n",
            "Epoch 7/10\n",
            "30/30 [==============================] - 6s 196ms/step - loss: 0.6931 - acc: 0.5064 - val_loss: 0.6931 - val_acc: 0.5085\n",
            "Epoch 8/10\n",
            "30/30 [==============================] - 6s 192ms/step - loss: 0.6931 - acc: 0.5148 - val_loss: 0.6931 - val_acc: 0.5085\n",
            "Epoch 9/10\n",
            "30/30 [==============================] - 6s 197ms/step - loss: 0.6931 - acc: 0.5148 - val_loss: 0.6931 - val_acc: 0.5085\n",
            "Epoch 10/10\n",
            "30/30 [==============================] - 6s 197ms/step - loss: 0.6931 - acc: 0.5148 - val_loss: 0.6930 - val_acc: 0.5085\n"
          ],
          "name": "stdout"
        }
      ]
    },
    {
      "cell_type": "code",
      "metadata": {
        "colab": {
          "base_uri": "https://localhost:8080/"
        },
        "id": "teLt1xnACd9K",
        "outputId": "ca570c86-f9dd-4eab-ca40-36c3a0c1e2a7"
      },
      "source": [
        "results = model.evaluate(test_embeddings, test_df['binary label'].values[1:len(test_embeddings)+1])\n",
        "print(results)"
      ],
      "execution_count": null,
      "outputs": [
        {
          "output_type": "stream",
          "text": [
            "30/30 [==============================] - 1s 40ms/step - loss: 0.6942 - acc: 0.4855\n",
            "[0.6942142844200134, 0.48549947142601013]\n"
          ],
          "name": "stdout"
        }
      ]
    },
    {
      "cell_type": "markdown",
      "metadata": {
        "id": "egyJlKfG0KkM"
      },
      "source": [
        "## With different word embeddings: FastText\n"
      ]
    },
    {
      "cell_type": "code",
      "metadata": {
        "id": "XtPNferEP1PS"
      },
      "source": [
        "from gensim import downloader"
      ],
      "execution_count": null,
      "outputs": []
    },
    {
      "cell_type": "code",
      "metadata": {
        "colab": {
          "base_uri": "https://localhost:8080/"
        },
        "id": "aL6uydItNHlt",
        "outputId": "afb52566-efd5-4c99-8080-9f86f574b9c1"
      },
      "source": [
        "fasttext_path = downloader.load('fasttext-wiki-news-subwords-300', return_path=True)\n",
        "print(fasttext_path)\n",
        "\n",
        "fasttext_model = KeyedVectors.load_word2vec_format(fasttext_path)"
      ],
      "execution_count": null,
      "outputs": [
        {
          "output_type": "stream",
          "text": [
            "[==================================================] 100.0% 958.5/958.4MB downloaded\n",
            "/root/gensim-data/fasttext-wiki-news-subwords-300/fasttext-wiki-news-subwords-300.gz\n"
          ],
          "name": "stdout"
        }
      ]
    },
    {
      "cell_type": "code",
      "metadata": {
        "id": "gDof7-3aP9i9"
      },
      "source": [
        "train_df['Embeddings_fasttext'] = train_df['Tweet'].apply(lambda x: generate_text_features(x, fasttext_model))\n",
        "dev_df['Embeddings_fasttext'] = dev_df['Tweet'].apply(lambda x: generate_text_features(x, fasttext_model))\n",
        "test_df['Embeddings_fasttext'] = test_df['Tweet'].apply(lambda x: generate_text_features(x, fasttext_model))"
      ],
      "execution_count": null,
      "outputs": []
    },
    {
      "cell_type": "code",
      "metadata": {
        "colab": {
          "base_uri": "https://localhost:8080/"
        },
        "id": "w3APOsh_Semu",
        "outputId": "b5f198dc-d0c9-4a68-e2d9-009526b74bde"
      },
      "source": [
        "train_df['Embeddings_fasttext'].head()"
      ],
      "execution_count": null,
      "outputs": [
        {
          "output_type": "execute_result",
          "data": {
            "text/plain": [
              "ID\n",
              "2017-En-30153    [0.1899414, 0.12072754, 0.008056641, 0.2116699...\n",
              "2017-En-40929    [0.037312824, 0.05788676, -0.009847005, 0.1191...\n",
              "2017-En-22012    [0.058245342, 0.033650715, 0.059013367, -0.016...\n",
              "2017-En-30837    [0.025488282, 0.1763672, -0.06201172, -0.03115...\n",
              "2017-En-30838    [0.0058166506, 0.11234741, 0.020368958, 0.0539...\n",
              "Name: Embeddings_fasttext, dtype: object"
            ]
          },
          "metadata": {
            "tags": []
          },
          "execution_count": 140
        }
      ]
    },
    {
      "cell_type": "code",
      "metadata": {
        "id": "BEjXQDZASCtm"
      },
      "source": [
        "def convert_to_array(df, model_name):\n",
        "  embeddings = []\n",
        "  for index, val in df['Embeddings_'+model_name].items():\n",
        "    embeddings.append(val)\n",
        "  arr = np.array(embeddings[0])\n",
        "  for elem in embeddings[1:]:\n",
        "    arr2 = np.array(elem)\n",
        "    if len(arr2)==300:\n",
        "      arr = np.vstack((arr,arr2))\n",
        "  \n",
        "  return arr"
      ],
      "execution_count": null,
      "outputs": []
    },
    {
      "cell_type": "code",
      "metadata": {
        "id": "FqSrNu3YTKD2"
      },
      "source": [
        "model_name = 'fasttext'"
      ],
      "execution_count": null,
      "outputs": []
    },
    {
      "cell_type": "code",
      "metadata": {
        "id": "hKmp15lcSVP3"
      },
      "source": [
        "train_embeddings = convert_to_array(train_df, model_name)"
      ],
      "execution_count": null,
      "outputs": []
    },
    {
      "cell_type": "code",
      "metadata": {
        "colab": {
          "base_uri": "https://localhost:8080/"
        },
        "id": "3llmlxC3TWdJ",
        "outputId": "8e6b6848-f0c7-4a96-9e74-d1ccee01920c"
      },
      "source": [
        "len(train_embeddings)"
      ],
      "execution_count": null,
      "outputs": [
        {
          "output_type": "execute_result",
          "data": {
            "text/plain": [
              "1180"
            ]
          },
          "metadata": {
            "tags": []
          },
          "execution_count": 155
        }
      ]
    },
    {
      "cell_type": "markdown",
      "metadata": {
        "id": "QTUs-Ok82BfC"
      },
      "source": [
        "### Results with FastText"
      ]
    },
    {
      "cell_type": "code",
      "metadata": {
        "id": "kEqxWT_BR1rh"
      },
      "source": [
        "clf = LogisticRegression(random_state=0).fit(train_embeddings, train_df['binary label'].values[1:])"
      ],
      "execution_count": null,
      "outputs": []
    },
    {
      "cell_type": "code",
      "metadata": {
        "id": "rIZpxkW4TfdL"
      },
      "source": [
        "dev_embeddings = convert_to_array(dev_df, model_name)\n",
        "test_embeddings = convert_to_array(test_df, model_name)"
      ],
      "execution_count": null,
      "outputs": []
    },
    {
      "cell_type": "code",
      "metadata": {
        "colab": {
          "base_uri": "https://localhost:8080/"
        },
        "id": "WZSZgA8NTZ-4",
        "outputId": "f47258e7-35a3-41c7-b496-1ef043f38dcb"
      },
      "source": [
        "clf.score(train_embeddings,train_df['binary label'].values[1:])"
      ],
      "execution_count": null,
      "outputs": [
        {
          "output_type": "execute_result",
          "data": {
            "text/plain": [
              "0.6974576271186441"
            ]
          },
          "metadata": {
            "tags": []
          },
          "execution_count": 158
        }
      ]
    },
    {
      "cell_type": "code",
      "metadata": {
        "colab": {
          "base_uri": "https://localhost:8080/"
        },
        "id": "sfdke8rtTnU9",
        "outputId": "a5ea6caf-164f-4cd5-ebd2-a345a35a9816"
      },
      "source": [
        "clf.score(dev_embeddings,dev_df['binary label'].values[1:])"
      ],
      "execution_count": null,
      "outputs": [
        {
          "output_type": "execute_result",
          "data": {
            "text/plain": [
              "0.5580357142857143"
            ]
          },
          "metadata": {
            "tags": []
          },
          "execution_count": 159
        }
      ]
    },
    {
      "cell_type": "code",
      "metadata": {
        "colab": {
          "base_uri": "https://localhost:8080/"
        },
        "id": "-sEC28KUTqi7",
        "outputId": "864b66af-8dd5-4b2b-b331-c256986b3ac8"
      },
      "source": [
        "clf.score(test_embeddings,test_df['binary label'].values[1:len(test_embeddings)+1])"
      ],
      "execution_count": null,
      "outputs": [
        {
          "output_type": "execute_result",
          "data": {
            "text/plain": [
              "0.5192719486081371"
            ]
          },
          "metadata": {
            "tags": []
          },
          "execution_count": 162
        }
      ]
    },
    {
      "cell_type": "markdown",
      "metadata": {
        "id": "2R-5WRB62HBT"
      },
      "source": [
        "## With different word embedding: debiased Word2Vec\n",
        "\n"
      ]
    },
    {
      "cell_type": "code",
      "metadata": {
        "id": "DzlkaNP1P28u"
      },
      "source": [
        "from responsibly.we import GenderBiasWE, most_similar"
      ],
      "execution_count": null,
      "outputs": []
    },
    {
      "cell_type": "code",
      "metadata": {
        "id": "qEwJwjuTTyPs"
      },
      "source": [
        "w2v_gender_bias_we = GenderBiasWE(w2v_model)"
      ],
      "execution_count": null,
      "outputs": []
    },
    {
      "cell_type": "code",
      "metadata": {
        "id": "BcJT_dkCVfsu"
      },
      "source": [
        "train_df['Embeddings_w2v_gender_bias'] = train_df['Tweet'].apply(lambda x: generate_text_features(x, w2v_gender_bias_we))\n",
        "dev_df['Embeddings_w2v_gender_bias'] = dev_df['Tweet'].apply(lambda x: generate_text_features(x, w2v_gender_bias_we))\n",
        "test_df['Embeddings_w2v_gender_bias'] = test_df['Tweet'].apply(lambda x: generate_text_features(x, w2v_gender_bias_we))"
      ],
      "execution_count": null,
      "outputs": []
    },
    {
      "cell_type": "code",
      "metadata": {
        "id": "uyxuSy_oVxUt"
      },
      "source": [
        "model_name = 'w2v_gender_bias'\n",
        "train_embeddings = convert_to_array(train_df, model_name)"
      ],
      "execution_count": null,
      "outputs": []
    },
    {
      "cell_type": "markdown",
      "metadata": {
        "id": "MD_RRxs72M2k"
      },
      "source": [
        "### Results with Debiased Word2Vec"
      ]
    },
    {
      "cell_type": "code",
      "metadata": {
        "id": "RIYBBAM6V8ZY"
      },
      "source": [
        "clf = LogisticRegression(random_state=0).fit(train_embeddings, train_df['binary label'].values[1:])"
      ],
      "execution_count": null,
      "outputs": []
    },
    {
      "cell_type": "code",
      "metadata": {
        "id": "ZivAxUu1V_t3"
      },
      "source": [
        "dev_embeddings = convert_to_array(dev_df, model_name)\n",
        "test_embeddings = convert_to_array(test_df, model_name)"
      ],
      "execution_count": null,
      "outputs": []
    },
    {
      "cell_type": "code",
      "metadata": {
        "colab": {
          "base_uri": "https://localhost:8080/"
        },
        "id": "iHX8s22xWB_Z",
        "outputId": "2851faf7-a98f-45f6-bfac-7afa056e9dac"
      },
      "source": [
        "clf.score(dev_embeddings,dev_df['binary label'].values[1:])"
      ],
      "execution_count": null,
      "outputs": [
        {
          "output_type": "execute_result",
          "data": {
            "text/plain": [
              "0.5625"
            ]
          },
          "metadata": {
            "tags": []
          },
          "execution_count": 169
        }
      ]
    },
    {
      "cell_type": "code",
      "metadata": {
        "colab": {
          "base_uri": "https://localhost:8080/"
        },
        "id": "x7tfJGhlWEN9",
        "outputId": "cecdc3bb-03f9-4874-9ec2-2e61f61e3764"
      },
      "source": [
        "clf.score(test_embeddings,test_df['binary label'].values[1:len(test_embeddings)+1])"
      ],
      "execution_count": null,
      "outputs": [
        {
          "output_type": "execute_result",
          "data": {
            "text/plain": [
              "0.5246252676659529"
            ]
          },
          "metadata": {
            "tags": []
          },
          "execution_count": 170
        }
      ]
    },
    {
      "cell_type": "code",
      "metadata": {
        "id": "zRRr_gaSf4-H"
      },
      "source": [
        "w2v_gender_debias = w2v_gender_bias_we.debias(method='neutralize', inplace=False)"
      ],
      "execution_count": null,
      "outputs": []
    },
    {
      "cell_type": "code",
      "metadata": {
        "id": "Qq0uy0sHf9xB"
      },
      "source": [
        "train_df['Embeddings_w2v_gender_debias'] = train_df['Tweet'].apply(lambda x: generate_text_features(x, w2v_gender_debias))\n",
        "dev_df['Embeddings_w2v_gender_debias'] = dev_df['Tweet'].apply(lambda x: generate_text_features(x, w2v_gender_debias))\n",
        "test_df['Embeddings_w2v_gender_debias'] = test_df['Tweet'].apply(lambda x: generate_text_features(x, w2v_gender_debias))"
      ],
      "execution_count": null,
      "outputs": []
    },
    {
      "cell_type": "code",
      "metadata": {
        "id": "YOcV1G-GgLFj"
      },
      "source": [
        "model_name = 'w2v_gender_debias'\n",
        "train_embeddings = convert_to_array(train_df, model_name)"
      ],
      "execution_count": null,
      "outputs": []
    },
    {
      "cell_type": "code",
      "metadata": {
        "id": "wLJ5yv5Dgg3k"
      },
      "source": [
        "clf = LogisticRegression(random_state=0).fit(train_embeddings, train_df['binary label'].values[1:])"
      ],
      "execution_count": null,
      "outputs": []
    },
    {
      "cell_type": "code",
      "metadata": {
        "id": "FhWnAdvYgjb9"
      },
      "source": [
        "dev_embeddings = convert_to_array(dev_df, model_name)\n",
        "test_embeddings = convert_to_array(test_df, model_name)"
      ],
      "execution_count": null,
      "outputs": []
    },
    {
      "cell_type": "code",
      "metadata": {
        "colab": {
          "base_uri": "https://localhost:8080/"
        },
        "id": "v7rGDRfQglSj",
        "outputId": "a77156df-1587-4141-cc84-34cf614ecadd"
      },
      "source": [
        "clf.score(dev_embeddings,dev_df['binary label'].values[1:])"
      ],
      "execution_count": null,
      "outputs": [
        {
          "output_type": "execute_result",
          "data": {
            "text/plain": [
              "0.5625"
            ]
          },
          "metadata": {
            "tags": []
          },
          "execution_count": 178
        }
      ]
    },
    {
      "cell_type": "code",
      "metadata": {
        "colab": {
          "base_uri": "https://localhost:8080/"
        },
        "id": "_Lix5PsogndO",
        "outputId": "6b7f3f70-f330-4d5f-d485-d5fa29e63248"
      },
      "source": [
        "clf.score(test_embeddings,test_df['binary label'].values[1:len(test_embeddings)+1])"
      ],
      "execution_count": null,
      "outputs": [
        {
          "output_type": "execute_result",
          "data": {
            "text/plain": [
              "0.5246252676659529"
            ]
          },
          "metadata": {
            "tags": []
          },
          "execution_count": 179
        }
      ]
    }
  ]
}